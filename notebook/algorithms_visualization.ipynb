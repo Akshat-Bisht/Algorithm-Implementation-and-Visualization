{
 "cells": [
  {
   "cell_type": "markdown",
   "id": "c847a3bb",
   "metadata": {},
   "source": [
    "# Algorithm Implementation & Visualization"
   ]
  },
  {
   "cell_type": "code",
   "execution_count": null,
   "id": "dab2ee92",
   "metadata": {},
   "outputs": [],
   "source": [
    "import pandas as pd\n",
    "import matplotlib.pyplot as plt\n",
    "import networkx as nx"
   ]
  },
  {
   "cell_type": "code",
   "execution_count": null,
   "id": "c6e559d9",
   "metadata": {},
   "outputs": [],
   "source": [
    "df = pd.read_csv('../data/city_traffic.csv')\n",
    "df.head()"
   ]
  },
  {
   "cell_type": "code",
   "execution_count": null,
   "id": "aa5bd266",
   "metadata": {},
   "outputs": [],
   "source": [
    "G = nx.Graph()\n",
    "for _, row in df.iterrows():\n",
    "    G.add_edge(row['Source'], row['Target'], weight=row.get('Distance', 1))\n",
    "plt.figure(figsize=(6,6))\n",
    "nx.draw(G, with_labels=True, node_color='skyblue', node_size=800)\n",
    "plt.show()"
   ]
  },
  {
   "cell_type": "code",
   "execution_count": null,
   "id": "74f3bb93",
   "metadata": {},
   "outputs": [],
   "source": [
    "path = nx.dijkstra_path(G, source=df['Source'][0], target=df['Target'][0])\n",
    "path"
   ]
  }
 ],
 "metadata": {},
 "nbformat": 4,
 "nbformat_minor": 5
}
